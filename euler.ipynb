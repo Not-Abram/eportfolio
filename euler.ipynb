{
 "cells": [
  {
   "cell_type": "markdown",
   "metadata": {},
   "source": [
    "$2520$ is the smallest number that can be divided by each of the numbers from $1$ to $10$ without any remainder.\n",
    "\n",
    "What is the smallest positive number that is evenly divisible (divisible with no remainder) by all of the numbers from $1$ to $20$?\n"
   ]
  },
  {
   "cell_type": "markdown",
   "metadata": {},
   "source": [
    "This problem can be solved by taking the prime factors of all the numbers from $1$ to $20$ and using them to find the least common multiple. \n",
    "\n",
    "$1  : 1$ \n",
    "\n",
    "$2  : 2$ \n",
    "\n",
    "$3  : 3$ \n",
    "\n",
    "$4  : 2^2$ \n",
    "\n",
    "$5  : 5$ \n",
    "\n",
    "$6  : 2 * 3$ \n",
    "\n",
    "$7  : 7$ \n",
    "\n",
    "$8  : 2^3$ \n",
    "\n",
    "$9  : 3^2$ \n",
    "\n",
    "$10 : 2 * 5$ \n",
    "\n",
    "$11 : 11$ \n",
    "\n",
    "$12 : 2^2 * 3$ \n",
    "\n",
    "$13 : 13$ \n",
    "\n",
    "$14 : 2 * 7$ \n",
    "\n",
    "$15 : 3 * 5$ \n",
    "\n",
    "$16 : 2^4$ \n",
    "\n",
    "$17 : 17$ \n",
    "\n",
    "$18 : 2 * 3^2$ \n",
    "\n",
    "$19 : 19$ \n",
    "\n",
    "$20 : 2^2 * 5$ \n",
    "\n",
    "$-> 2^4 * 3^2 * 5 * 7 * 11 * 13 * 17 * 19 $\n"
   ]
  },
  {
   "cell_type": "code",
   "execution_count": 4,
   "metadata": {},
   "outputs": [
    {
     "data": {
      "text/plain": [
       "232792560"
      ]
     },
     "execution_count": 4,
     "metadata": {},
     "output_type": "execute_result"
    }
   ],
   "source": [
    "pow(2, 4) * pow(3, 2) * 5 * 7 * 11 * 13 * 17 * 19"
   ]
  },
  {
   "cell_type": "markdown",
   "metadata": {},
   "source": [
    "Another clever way to solve this for the range $1$ to $x$ would be to find all of the primes less than or equal to than $x$, find out each prime's maximum exponent less or equal to $x$, then multiplying all of those numbers together to find their least common multiple. "
   ]
  },
  {
   "cell_type": "code",
   "execution_count": 25,
   "metadata": {},
   "outputs": [
    {
     "name": "stdout",
     "output_type": "stream",
     "text": [
      "[2, 3, 5, 7, 11, 13, 17, 19]\n",
      "[3, 2, 1, 1, 1, 1, 1, 1]\n",
      "The least common multiple of all numbers less than  20  is  116396280\n"
     ]
    }
   ],
   "source": [
    "import math\n",
    "def isPrime(n):\n",
    "    if n == 1 or n == 2:\n",
    "        return True\n",
    "    elif n > 1:\n",
    "        # check for factors\n",
    "        for i in range(2,n):\n",
    "            if (n % i) == 0:\n",
    "                return False\n",
    "        return True\n",
    "    else:\n",
    "        return False\n",
    "\n",
    "\n",
    "def primesLessThan(x):\n",
    "    i = 2\n",
    "    primeList = []\n",
    "    while(i <= x):\n",
    "        if (isPrime(i)):\n",
    "            primeList.append(i)\n",
    "        i += 1\n",
    "    return primeList\n",
    "\n",
    "num = 20\n",
    "primeList = primesLessThan(num)\n",
    "powList = [0] * len(primeList)\n",
    "\n",
    "\n",
    "print(primesLessThan(num))\n",
    "\n",
    "for i in range(0, len(primeList)):\n",
    "    for j in range(1, math.floor(math.sqrt(num)) + 1):\n",
    "        if (pow(primeList[i], j) <= num):\n",
    "            powList[i] = j\n",
    "\n",
    "print(powList)\n",
    "\n",
    "lcm = 1\n",
    "for i in range(0, len(primeList)):\n",
    "    lcm = lcm * pow(primeList[i], powList[i])\n",
    "\n",
    "print(\"The least common multiple of all numbers less than \", num, \" is \", lcm)\n",
    "        "
   ]
  }
 ],
 "metadata": {
  "kernelspec": {
   "display_name": "Python 3",
   "language": "python",
   "name": "python3"
  },
  "language_info": {
   "codemirror_mode": {
    "name": "ipython",
    "version": 3
   },
   "file_extension": ".py",
   "mimetype": "text/x-python",
   "name": "python",
   "nbconvert_exporter": "python",
   "pygments_lexer": "ipython3",
   "version": "3.10.8"
  }
 },
 "nbformat": 4,
 "nbformat_minor": 2
}
