{
 "cells": [
  {
   "cell_type": "markdown",
   "metadata": {},
   "source": [
    "The prime factors of $13195$ are $5, 7, 13,$ and $29.$\n",
    "\n",
    "What is the largest prime factor of the number $600851475143?$"
   ]
  },
  {
   "cell_type": "code",
   "execution_count": 2,
   "metadata": {},
   "outputs": [],
   "source": [
    "def largestPrimeFactor(n):\n",
    "    i = 2\n",
    "    while i**2 <= n:\n",
    "        if n % i == 0:\n",
    "            n = n // i\n",
    "        else:\n",
    "            i += 1\n",
    "    return n"
   ]
  },
  {
   "cell_type": "markdown",
   "metadata": {},
   "source": [
    "I got the above algorithm from Dr. Clontz's class."
   ]
  },
  {
   "cell_type": "code",
   "execution_count": 3,
   "metadata": {},
   "outputs": [
    {
     "data": {
      "text/plain": [
       "6857"
      ]
     },
     "execution_count": 3,
     "metadata": {},
     "output_type": "execute_result"
    }
   ],
   "source": [
    "largestPrimeFactor(600851475143)"
   ]
  },
  {
   "cell_type": "markdown",
   "metadata": {},
   "source": [
    "$2520$ is the smallest number that can be divided by each of the numbers from $1$ to $10$ without any remainder.\n",
    "\n",
    "What is the smallest positive number that is evenly divisible (divisible with no remainder) by all of the numbers from $1$ to $20$?\n"
   ]
  },
  {
   "cell_type": "markdown",
   "metadata": {},
   "source": [
    "This problem can be solved by taking the prime factors of all the numbers from $1$ to $20$ and using them to find the least common multiple. \n",
    "\n",
    "$1  : 1$ \n",
    "\n",
    "$2  : 2$ \n",
    "\n",
    "$3  : 3$ \n",
    "\n",
    "$4  : 2^2$ \n",
    "\n",
    "$5  : 5$ \n",
    "\n",
    "$6  : 2 * 3$ \n",
    "\n",
    "$7  : 7$ \n",
    "\n",
    "$8  : 2^3$ \n",
    "\n",
    "$9  : 3^2$ \n",
    "\n",
    "$10 : 2 * 5$ \n",
    "\n",
    "$11 : 11$ \n",
    "\n",
    "$12 : 2^2 * 3$ \n",
    "\n",
    "$13 : 13$ \n",
    "\n",
    "$14 : 2 * 7$ \n",
    "\n",
    "$15 : 3 * 5$ \n",
    "\n",
    "$16 : 2^4$ \n",
    "\n",
    "$17 : 17$ \n",
    "\n",
    "$18 : 2 * 3^2$ \n",
    "\n",
    "$19 : 19$ \n",
    "\n",
    "$20 : 2^2 * 5$ \n",
    "\n",
    "$-> 2^4 * 3^2 * 5 * 7 * 11 * 13 * 17 * 19 $\n"
   ]
  },
  {
   "cell_type": "code",
   "execution_count": 3,
   "metadata": {},
   "outputs": [
    {
     "name": "stdout",
     "output_type": "stream",
     "text": [
      "232792560\n"
     ]
    }
   ],
   "source": [
    "import math\n",
    "print(pow(2, 4) * pow(3, 2) * 5 * 7 * 11 * 13 * 17 * 19)"
   ]
  },
  {
   "cell_type": "markdown",
   "metadata": {},
   "source": [
    "Another clever way to solve this for the range $1$ to $x$ would be to find all of the primes less than or equal to than $x$, find out each prime's maximum exponent less or equal to $x$, then multiplying all of those numbers together to find their least common multiple. "
   ]
  }
 ],
 "metadata": {
  "kernelspec": {
   "display_name": "Python 3",
   "language": "python",
   "name": "python3"
  },
  "language_info": {
   "codemirror_mode": {
    "name": "ipython",
    "version": 3
   },
   "file_extension": ".py",
   "mimetype": "text/x-python",
   "name": "python",
   "nbconvert_exporter": "python",
   "pygments_lexer": "ipython3",
   "version": "3.10.8"
  }
 },
 "nbformat": 4,
 "nbformat_minor": 2
}
